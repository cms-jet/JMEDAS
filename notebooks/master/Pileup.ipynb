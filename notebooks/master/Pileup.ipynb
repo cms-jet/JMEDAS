{
 "cells": [
  {
   "cell_type": "markdown",
   "metadata": {},
   "source": [
    "# Pileup and Jet ID"
   ]
  },
  {
   "cell_type": "markdown",
   "metadata": {},
   "source": [
    "## Loading packages and input files"
   ]
  },
  {
   "cell_type": "code",
   "execution_count": null,
   "metadata": {},
   "outputs": [],
   "source": [
    "from coffea.nanoevents import NanoEventsFactory, NanoAODSchema\n",
    "import hist\n",
    "import awkward as ak\n",
    "import matplotlib.pyplot as plt\n",
    "import mplhep as hep\n",
    "import uproot\n",
    "import numpy as np\n",
    "import correctionlib\n",
    "\n",
    "plt.style.use(hep.style.CMS)"
   ]
  },
  {
   "cell_type": "code",
   "execution_count": null,
   "metadata": {},
   "outputs": [],
   "source": [
    "fname = \"root://cmseos.fnal.gov//store/user/cmsdas/2023/short_exercises/jets/RunIISummer20UL18NanoAODv9/QCD_Pt-15to7000_TuneCP5_Flat2018_13TeV_pythia8/NANOAODSIM/FlatPU0to75_20UL18JMENano_106X_upgrade2018_realistic_v16_L1v1-v1/2550000/FC0443BA-3466-0F45-A38F-54B014867DEF.root\"\n",
    "events = NanoEventsFactory.from_root( fname, schemaclass=NanoAODSchema.v6).events()"
   ]
  },
  {
   "cell_type": "markdown",
   "metadata": {},
   "source": [
    "## Exercise 2.1: Pileup event variables\n",
    "\n",
    "Let's make histograms of different pileup event variables and look at their distributions:"
   ]
  },
  {
   "cell_type": "code",
   "execution_count": null,
   "metadata": {},
   "outputs": [],
   "source": [
    "hists = (\n",
    "    hist.Hist.new\n",
    "    .Reg(100, 0, 101, name=\"npu\", label='NPU')\n",
    "    .Reg(100, 0, 101, name=\"mu\", label='mu')\n",
    "    .Reg(100, 0, 101, name=\"rho\", label='rho')\n",
    "    .Reg(100, 0, 101, name=\"npv\", label='NPV')\n",
    "    .Weight()\n",
    "    .fill(\n",
    "        npu=events.Pileup.nPU,\n",
    "        mu=events.Pileup.nTrueInt,\n",
    "        rho=events.fixedGridRhoFastjetAll,\n",
    "        npv= events.PV.npvs\n",
    "    )\n",
    ")"
   ]
  },
  {
   "cell_type": "code",
   "execution_count": null,
   "metadata": {},
   "outputs": [],
   "source": [
    "hists.project('mu', 'npv').plot2d()"
   ]
  },
  {
   "cell_type": "code",
   "execution_count": null,
   "metadata": {},
   "outputs": [],
   "source": [
    "hists.project('npv', 'rho').plot2d()"
   ]
  },
  {
   "cell_type": "code",
   "execution_count": null,
   "metadata": {},
   "outputs": [],
   "source": [
    "hists.project('mu', 'rho').plot2d()"
   ]
  },
  {
   "cell_type": "code",
   "execution_count": null,
   "metadata": {},
   "outputs": [],
   "source": [
    "fig, ax = plt.subplots()\n",
    "\n",
    "hists.project('mu').plot1d(ax=ax, density=True, label=r\"\\mu\")\n",
    "hists.project('rho').plot1d(ax=ax, density=True, label=r'\\rho')\n",
    "hists.project('npv').plot1d(ax=ax, density=True, label='NPV')\n",
    "hists.project('npu').plot1d(ax=ax, density=True, label='NPU')\n",
    "\n",
    "ax.legend()"
   ]
  },
  {
   "cell_type": "markdown",
   "metadata": {},
   "source": [
    "## Exercise 2.2: CHS vs PUPPI\n",
    "\n",
    "Let's play with some basic quantities between CHS and PUPPI."
   ]
  },
  {
   "cell_type": "code",
   "execution_count": null,
   "metadata": {},
   "outputs": [],
   "source": [
    "jets = events.Jet[ (events.Jet.pt > 30) ]\n",
    "jets_puppi = events.JetPuppi[ (events.JetPuppi.pt > 30) ]\n",
    "\n",
    "hists = (\n",
    "    hist.Hist.new\n",
    "    .StrCategory(['chs', 'puppi'], name='pu', growth=True)\n",
    "    .Reg(50, 0, 500, name=\"pt\", label='pt')\n",
    "    .Reg(40, -5, 5, name=\"eta\", label='eta')\n",
    "    .Weight()\n",
    "    .fill(\n",
    "        pu='chs',\n",
    "        pt=ak.flatten(jets.pt) ,\n",
    "        eta=ak.flatten(jets.eta )\n",
    "    )\n",
    "    .fill(\n",
    "        pu='puppi',\n",
    "        pt=ak.flatten(jets_puppi.pt ),\n",
    "        eta=ak.flatten(jets_puppi.eta )\n",
    "    )\n",
    ")"
   ]
  },
  {
   "cell_type": "code",
   "execution_count": null,
   "metadata": {},
   "outputs": [],
   "source": [
    "fig, ax = plt.subplots()\n",
    "hists.project('pu', 'pt').plot1d(ax=ax)\n",
    "ax.legend()\n",
    "ax.set_yscale(\"log\")"
   ]
  },
  {
   "cell_type": "code",
   "execution_count": null,
   "metadata": {},
   "outputs": [],
   "source": [
    "fig, ax = plt.subplots()\n",
    "hists.project('pu', 'eta').plot1d(ax=ax)\n",
    "ax.legend()\n",
    "# ax.set_yscale(\"log\")"
   ]
  },
  {
   "cell_type": "markdown",
   "metadata": {},
   "source": [
    "## Exercise 2.3: Pileup Reweighting \n",
    "\n",
    "Let's use again the `json-pog` and `correctionlib` to access the pileup weights:"
   ]
  },
  {
   "cell_type": "code",
   "execution_count": null,
   "metadata": {},
   "outputs": [],
   "source": [
    "correction_file = \"/cvmfs/cms.cern.ch/rsync/cms-nanoAOD/jsonpog-integration/POG/LUM/2018_UL/puWeights.json.gz\"\n",
    "pu_weight_corr = list(correctionlib.CorrectionSet.from_file(correction_file).values())[0]"
   ]
  },
  {
   "cell_type": "code",
   "execution_count": null,
   "metadata": {},
   "outputs": [],
   "source": [
    "pu_weight = pu_weight_corr.evaluate( events.Pileup.nTrueInt.to_numpy(), 'nominal' )"
   ]
  },
  {
   "cell_type": "markdown",
   "metadata": {},
   "source": [
    "Now let's look at the PU weights as a function of $\\mu$"
   ]
  },
  {
   "cell_type": "code",
   "execution_count": null,
   "metadata": {},
   "outputs": [],
   "source": [
    "hists = (\n",
    "    hist.Hist.new\n",
    "    .Reg(100, 0, 100, name=\"pu\")\n",
    "    .Reg(200, 0, 2, name=\"puweight\")\n",
    "    .Weight()\n",
    "    .fill(\n",
    "        puweight=pu_weight,\n",
    "        pu=events.Pileup.nTrueInt.to_numpy()\n",
    "    )\n",
    ")"
   ]
  },
  {
   "cell_type": "code",
   "execution_count": null,
   "metadata": {
    "scrolled": false
   },
   "outputs": [],
   "source": [
    "fig, axs = plt.subplots()\n",
    "\n",
    "axs.axhline(y=1, color='gray', linestyle='--')\n",
    "\n",
    "axs.errorbar(\n",
    "    x= hists.axes[0].centers,\n",
    "    y= hists.profile('puweight').values(),\n",
    "    yerr= abs(hists.profile('puweight').variances()),\n",
    "    xerr=np.ones(len(hists.axes[0].centers))*0.5,\n",
    "    marker='v', linestyle=\"\",\n",
    ")\n",
    "\n",
    "axs.set_xlabel('Number of interactions')\n",
    "axs.set_ylabel('PU weight')"
   ]
  },
  {
   "cell_type": "markdown",
   "metadata": {},
   "source": [
    "Let's use these weights in a distribution, like the number of primary vertices, to see their effect:"
   ]
  },
  {
   "cell_type": "code",
   "execution_count": null,
   "metadata": {},
   "outputs": [],
   "source": [
    "fig, ax = plt.subplots()\n",
    "\n",
    "hists = (\n",
    "    hist.Hist.new\n",
    "    .Reg(99, 0, 100, name=\"npv\")\n",
    "    .Weight()\n",
    "    .fill(\n",
    "        npv=events.PV.npvs.to_numpy(),\n",
    "        weight=pu_weight,\n",
    "    )\n",
    ").plot1d(density=True, ax=ax, label='w PUweight')\n",
    "\n",
    "hists = (\n",
    "    hist.Hist.new\n",
    "    .Reg(99, 0, 100, name=\"npv\")\n",
    "    .Weight()\n",
    "    .fill(\n",
    "        npv=events.PV.npvs.to_numpy(),\n",
    "    )\n",
    ").plot1d(density=True, ax=ax, label=\"wo PUweight\")\n",
    "\n",
    "ax.legend()"
   ]
  },
  {
   "cell_type": "markdown",
   "metadata": {},
   "source": [
    "## Exercise 2.4: Jet ID"
   ]
  },
  {
   "cell_type": "markdown",
   "metadata": {},
   "source": [
    "Let's create a histogram with the jetId information:"
   ]
  },
  {
   "cell_type": "code",
   "execution_count": null,
   "metadata": {},
   "outputs": [],
   "source": [
    "hists3 = (\n",
    "    hist.Hist.new\n",
    "    .Reg(50, 0, 500, name=\"pt\")\n",
    "    .Reg(40, -5, 5, name=\"eta\")\n",
    "    .Reg(10, 0, 10, name=\"jetId\")\n",
    "    .Weight()\n",
    "    .fill(\n",
    "        pt=ak.flatten(events.Jet.pt),\n",
    "        eta=ak.flatten(events.Jet.eta),\n",
    "        jetId=ak.flatten(events.Jet.jetId),\n",
    "    )\n",
    ")"
   ]
  },
  {
   "cell_type": "code",
   "execution_count": null,
   "metadata": {},
   "outputs": [],
   "source": [
    "hists3.project(\"jetId\").plot1d()"
   ]
  },
  {
   "cell_type": "markdown",
   "metadata": {},
   "source": [
    "Let's apply a simple selection to the `events.Jet` collection to remove those jets:"
   ]
  },
  {
   "cell_type": "code",
   "execution_count": null,
   "metadata": {},
   "outputs": [],
   "source": [
    "jets = events.Jet[events.Jet.jetId>=2]\n",
    "\n",
    "hists4 = (\n",
    "    hist.Hist.new\n",
    "    .Reg(50, 0, 500, name=\"pt\")\n",
    "    .Reg(40, -5, 5, name=\"eta\")\n",
    "    .Reg(10, 0, 10, name=\"jetId\")\n",
    "    .Weight()\n",
    "    .fill(\n",
    "        pt=ak.flatten(jets.pt),\n",
    "        eta=ak.flatten(jets.eta),\n",
    "        jetId=ak.flatten(jets.jetId),\n",
    "    )\n",
    ")"
   ]
  },
  {
   "cell_type": "code",
   "execution_count": null,
   "metadata": {},
   "outputs": [],
   "source": [
    "hists4.project(\"jetId\").plot1d()"
   ]
  },
  {
   "cell_type": "markdown",
   "metadata": {},
   "source": [
    "## Your turn\n",
    "\n",
    "How different do the other jet distributions look like with jetId implemented?"
   ]
  },
  {
   "cell_type": "code",
   "execution_count": null,
   "metadata": {},
   "outputs": [],
   "source": []
  }
 ],
 "metadata": {
  "kernelspec": {
   "display_name": "Python 3 (ipykernel)",
   "language": "python",
   "name": "python3"
  },
  "language_info": {
   "codemirror_mode": {
    "name": "ipython",
    "version": 3
   },
   "file_extension": ".py",
   "mimetype": "text/x-python",
   "name": "python",
   "nbconvert_exporter": "python",
   "pygments_lexer": "ipython3",
   "version": "3.9.12"
  }
 },
 "nbformat": 4,
 "nbformat_minor": 2
}
