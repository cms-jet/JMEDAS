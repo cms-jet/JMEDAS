{
 "cells": [
  {
   "cell_type": "markdown",
   "metadata": {},
   "source": [
    "# Jets 101"
   ]
  },
  {
   "cell_type": "markdown",
   "metadata": {},
   "source": [
    "## Loading libraries\n",
    "\n",
    "We will use the [coffea package](https://coffeateam.github.io/coffea) and all the newest pythonic libraries:"
   ]
  },
  {
   "cell_type": "code",
   "execution_count": null,
   "metadata": {},
   "outputs": [],
   "source": [
    "from coffea.nanoevents import NanoEventsFactory, NanoAODSchema\n",
    "import hist\n",
    "import numpy as np\n",
    "import awkward as ak\n",
    "import matplotlib.pyplot as plt\n",
    "import mplhep as hep\n",
    "\n",
    "plt.style.use(hep.style.CMS)"
   ]
  },
  {
   "cell_type": "markdown",
   "metadata": {},
   "source": [
    "The following `JMENanoAODSchema` class and the file that this notebook is using are not part of the official CMS NanoAOD. It is just for educational purposes. The `JetCalo` collection is not part of the official nanoAOD files."
   ]
  },
  {
   "cell_type": "code",
   "execution_count": null,
   "metadata": {},
   "outputs": [],
   "source": [
    "class JMENanoAODSchema(NanoAODSchema):\n",
    "\n",
    "    mixins = {\n",
    "        **NanoAODSchema.mixins,\n",
    "        \"JetCalo\": \"Jet\",\n",
    "    }\n",
    "\n",
    "    all_cross_references = {\n",
    "        **NanoAODSchema.all_cross_references,\n",
    "    }"
   ]
  },
  {
   "cell_type": "markdown",
   "metadata": {},
   "source": [
    "For this exercise, we will use one file from the $t\\bar{t}$ process:"
   ]
  },
  {
   "cell_type": "code",
   "execution_count": null,
   "metadata": {},
   "outputs": [],
   "source": [
    "fname = \"root://cmseos.fnal.gov//store/user/cmsdas/2024/short_exercises/jets/RunIISummer20UL18NanoAODv9/TTJets_TuneCP5_13TeV-amcatnloFXFX-pythia8/NANOAODSIM/20UL18JMENano_106X_upgrade2018_realistic_v16_L1v1-v1/2520000/47A0D984-2D6F-0D42-B5CB-906786434349.root\"\n",
    "events = NanoEventsFactory.from_root( fname, schemaclass=JMENanoAODSchema).events()"
   ]
  },
  {
   "cell_type": "markdown",
   "metadata": {},
   "source": [
    "## Exercise 1.1: Comparing jet areas between AK4 and AK8"
   ]
  },
  {
   "cell_type": "code",
   "execution_count": null,
   "metadata": {},
   "outputs": [],
   "source": [
    "hists2 = (\n",
    "    hist.Hist.new\n",
    "    .StrCat([\"ak4\", \"ak8\"], name=\"jet_type\")\n",
    "    .Reg(50, 0, 500, name=\"pt\")\n",
    "    .Reg(40, -5, 5, name=\"eta\")\n",
    "    .Reg(40, -5, 5, name=\"phi\")\n",
    "    .Reg(20, 0, 100, name=\"mass\")\n",
    "    .Reg(30, 0, 3, name=\"area\")\n",
    "    .Weight()\n",
    "    .fill(\n",
    "        jet_type=\"ak4\",\n",
    "        pt=ak.flatten(events.Jet.pt),\n",
    "        eta=ak.flatten(events.Jet.eta),\n",
    "        phi=ak.flatten(events.Jet.phi),\n",
    "        mass=ak.flatten(events.Jet.mass),\n",
    "        area=ak.flatten(events.Jet.area)    \n",
    "    )\n",
    "    .fill(\n",
    "        jet_type=\"ak8\",\n",
    "        pt=ak.flatten(events.FatJet.pt),\n",
    "        eta=ak.flatten(events.FatJet.eta),\n",
    "        phi=ak.flatten(events.FatJet.phi),\n",
    "        mass=ak.flatten(events.FatJet.mass),\n",
    "        area=ak.flatten(events.FatJet.area)\n",
    "    )\n",
    ")\n"
   ]
  },
  {
   "cell_type": "code",
   "execution_count": null,
   "metadata": {},
   "outputs": [],
   "source": [
    "fig, ax = plt.subplots()\n",
    "hists2.project(\"jet_type\", \"area\").plot1d(density=True, ax=ax)\n",
    "ax.legend(title=\"jet type\")"
   ]
  },
  {
   "cell_type": "markdown",
   "metadata": {},
   "source": [
    "## Your turn\n",
    "\n",
    "You can make plots for other quantities between ak4 and ak8 jets."
   ]
  },
  {
   "cell_type": "code",
   "execution_count": null,
   "metadata": {},
   "outputs": [],
   "source": []
  },
  {
   "cell_type": "markdown",
   "metadata": {},
   "source": [
    "## Exercise 1.2: Jet Types and Algorithms"
   ]
  },
  {
   "cell_type": "markdown",
   "metadata": {},
   "source": [
    "Let's make histograms for different jets:"
   ]
  },
  {
   "cell_type": "code",
   "execution_count": null,
   "metadata": {},
   "outputs": [],
   "source": [
    "hists = (\n",
    "    hist.Hist.new\n",
    "    .StrCat([\"pf\", \"gen\", \"calo\"], name=\"jet_type\")\n",
    "    .Reg(50, 0, 500, name=\"pt\")\n",
    "    .Reg(40, -5, 5, name=\"eta\")\n",
    "    .Reg(40, -5, 5, name=\"phi\")\n",
    "    .Reg(20, 0, 100, name=\"mass\")\n",
    "    .Weight()\n",
    "    .fill(\n",
    "        jet_type=\"pf\",\n",
    "        pt=ak.flatten(events.Jet.pt),\n",
    "        eta=ak.flatten(events.Jet.eta),\n",
    "        phi=ak.flatten(events.Jet.phi),\n",
    "        mass=ak.flatten(events.Jet.mass)    \n",
    "    )\n",
    "    .fill(\n",
    "        jet_type=\"gen\",\n",
    "        pt=ak.flatten(events.GenJet.pt),\n",
    "        eta=ak.flatten(events.GenJet.eta),\n",
    "        phi=ak.flatten(events.GenJet.phi),\n",
    "        mass=ak.flatten(events.GenJet.mass)    \n",
    "    )\n",
    "    .fill(\n",
    "        jet_type=\"calo\",\n",
    "        pt=ak.flatten(events.JetCalo.pt),\n",
    "        eta=ak.flatten(events.JetCalo.eta),\n",
    "        phi=ak.flatten(events.JetCalo.phi),\n",
    "        mass=ak.flatten(events.JetCalo.mass)    \n",
    "    )\n",
    ")\n"
   ]
  },
  {
   "cell_type": "code",
   "execution_count": null,
   "metadata": {
    "scrolled": false
   },
   "outputs": [],
   "source": [
    "for ivar in ['pt', 'eta', 'phi', 'mass']:\n",
    "    fig, ax = plt.subplots()\n",
    "    hists.project(\"jet_type\", ivar).plot1d(ax=ax, density=True)\n",
    "    ax.legend(title=\"jet type\")"
   ]
  },
  {
   "cell_type": "markdown",
   "metadata": {},
   "source": [
    "## Exercise 1: Plotting basic quantities\n",
    "\n",
    "Let's make some basic plots about jets:"
   ]
  },
  {
   "cell_type": "code",
   "execution_count": null,
   "metadata": {},
   "outputs": [],
   "source": [
    "hists = (\n",
    "    hist.Hist.new\n",
    "    .Reg(50, 0, 500, name=\"pt\")\n",
    "    .Reg(40, -5, 5, name=\"eta\")\n",
    "    .Reg(40, -5, 5, name=\"phi\")\n",
    "    .Reg(20, 0, 100, name=\"mass\")\n",
    "    .Weight()\n",
    "    .fill(\n",
    "        pt=ak.flatten(events.Jet.pt),\n",
    "        eta=ak.flatten(events.Jet.eta),\n",
    "        phi=ak.flatten(events.Jet.phi),\n",
    "        mass=ak.flatten(events.Jet.mass)\n",
    "    )\n",
    ")"
   ]
  },
  {
   "cell_type": "code",
   "execution_count": null,
   "metadata": {},
   "outputs": [],
   "source": [
    "fig, ax = plt.subplots()\n",
    "hists.project(\"pt\")[::].plot1d()"
   ]
  },
  {
   "cell_type": "code",
   "execution_count": null,
   "metadata": {},
   "outputs": [],
   "source": [
    "hists.project(\"eta\").plot1d()"
   ]
  },
  {
   "cell_type": "code",
   "execution_count": null,
   "metadata": {},
   "outputs": [],
   "source": [
    "hists.project(\"phi\").plot1d()"
   ]
  },
  {
   "cell_type": "code",
   "execution_count": null,
   "metadata": {},
   "outputs": [],
   "source": [
    "hists.project(\"mass\")[:50j:].plot1d()"
   ]
  },
  {
   "cell_type": "markdown",
   "metadata": {},
   "source": [
    "### NanoAOD Jet Content\n",
    "\n",
    "We have two types of jets in nanoAOD: ak4 (Jet) and ak8 jets (FatJet). Let's look at the content of nanoAOD:\n"
   ]
  },
  {
   "cell_type": "code",
   "execution_count": null,
   "metadata": {},
   "outputs": [],
   "source": [
    "events.Jet.fields"
   ]
  },
  {
   "cell_type": "code",
   "execution_count": null,
   "metadata": {},
   "outputs": [],
   "source": [
    "events.FatJet.fields"
   ]
  },
  {
   "cell_type": "markdown",
   "metadata": {},
   "source": [
    "## Your turn\n",
    "\n",
    "You can fill some histograms with the variables from nanoAOD in the cell below:"
   ]
  },
  {
   "cell_type": "code",
   "execution_count": null,
   "metadata": {},
   "outputs": [],
   "source": []
  }
 ],
 "metadata": {
  "kernelspec": {
   "display_name": "Python 3 (ipykernel)",
   "language": "python",
   "name": "python3"
  },
  "language_info": {
   "codemirror_mode": {
    "name": "ipython",
    "version": 3
   },
   "file_extension": ".py",
   "mimetype": "text/x-python",
   "name": "python",
   "nbconvert_exporter": "python",
   "pygments_lexer": "ipython3",
   "version": "3.9.12"
  }
 },
 "nbformat": 4,
 "nbformat_minor": 2
}
