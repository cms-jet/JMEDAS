{
 "cells": [
  {
   "cell_type": "markdown",
   "metadata": {
    "slideshow": {
     "slide_type": "-"
    }
   },
   "source": [
    "# Jet Energy Corrections"
   ]
  },
  {
   "cell_type": "markdown",
   "metadata": {},
   "source": [
    "## Loading packages and input files"
   ]
  },
  {
   "cell_type": "code",
   "execution_count": null,
   "metadata": {},
   "outputs": [],
   "source": [
    "from coffea.nanoevents import NanoEventsFactory, NanoAODSchema\n",
    "import hist\n",
    "import awkward as ak\n",
    "import numpy as np\n",
    "import matplotlib.pyplot as plt\n",
    "import mplhep as hep\n",
    "import correctionlib\n",
    "import copy\n",
    "\n",
    "plt.style.use(hep.style.CMS)"
   ]
  },
  {
   "cell_type": "code",
   "execution_count": null,
   "metadata": {},
   "outputs": [],
   "source": [
    "fname = \"root://cmseos.fnal.gov//store/user/cmsdas/2024/short_exercises/jets/RunIISummer20UL18NanoAODv9/TTJets_TuneCP5_13TeV-amcatnloFXFX-pythia8/NANOAODSIM/106X_upgrade2018_realistic_v16_L1v1-v1/2520000/130AF209-596A-BA46-BA9E-D8847511BB0F.root\"\n",
    "events = NanoEventsFactory.from_root( fname, schemaclass=NanoAODSchema.v6).events()"
   ]
  },
  {
   "cell_type": "markdown",
   "metadata": {},
   "source": [
    "## Exercise 3.1\n",
    "\n",
    "First, for simplicity, let's apply a simple selection in the jet eta of the jets we are going to study:"
   ]
  },
  {
   "cell_type": "code",
   "execution_count": null,
   "metadata": {},
   "outputs": [],
   "source": [
    "jets = events.Jet[ (np.abs(events.Jet.eta)<2.5) ]"
   ]
  },
  {
   "cell_type": "markdown",
   "metadata": {},
   "source": [
    "Since the jets in our input files are corrected, we will uncorrect them first. Then, again for simplicity, we will include a jet pt selection:"
   ]
  },
  {
   "cell_type": "code",
   "execution_count": null,
   "metadata": {},
   "outputs": [],
   "source": [
    "uncorr_jets = copy.deepcopy(jets)\n",
    "uncorr_jets['pt_raw'] = (1 - uncorr_jets['rawFactor']) * uncorr_jets['pt']\n",
    "uncorr_jets['mass_raw'] = (1 - uncorr_jets['rawFactor']) * uncorr_jets['mass']\n",
    "\n",
    "uncorr_jets = uncorr_jets[(uncorr_jets.pt_raw > 30)]\n",
    "events.GenJet = events.GenJet[(events.GenJet.pt > 30)]"
   ]
  },
  {
   "cell_type": "markdown",
   "metadata": {},
   "source": [
    "Let's make the histograms to compare and the plots:"
   ]
  },
  {
   "cell_type": "code",
   "execution_count": null,
   "metadata": {},
   "outputs": [],
   "source": [
    "hists_uncorr = (\n",
    "    hist.Hist.new\n",
    "    .StrCat([\"gen\", \"reco\"], name=\"jet_type\")\n",
    "    .Reg(100, 0, 1000, name=\"pt\", label='jet pt')\n",
    "    .Reg(40, -5, 5, name=\"eta\", label='jet eta')\n",
    "    .Weight()\n",
    "    .fill(\n",
    "        jet_type='gen',\n",
    "        pt=ak.flatten(events.GenJet.pt),\n",
    "        eta=ak.flatten(events.GenJet.eta)\n",
    "    )\n",
    "    .fill(\n",
    "        jet_type='reco',\n",
    "        pt=ak.flatten(uncorr_jets.pt_raw),\n",
    "        eta=ak.flatten(uncorr_jets.eta)\n",
    "    )\n",
    ")"
   ]
  },
  {
   "cell_type": "code",
   "execution_count": null,
   "metadata": {},
   "outputs": [],
   "source": [
    "gen = hists_uncorr[\"gen\", :, ::sum]\n",
    "unc_reco = hists_uncorr[\"reco\", :, ::sum]\n",
    "\n",
    "fig = plt.gcf()\n",
    "grid = fig.add_gridspec(2, 1, hspace=0, height_ratios=[3, 1])\n",
    "\n",
    "main_ax = fig.add_subplot(grid[0])\n",
    "subplot_ax = fig.add_subplot(grid[1], sharex=main_ax)\n",
    "\n",
    "main, subplot = gen.plot_ratio(unc_reco, rp_num_label=\"gen\", rp_denom_label=\"uncorr reco\", ax_dict={'main_ax' : main_ax, 'ratio_ax': subplot_ax} )\n",
    "main_ax.set_yscale('log')"
   ]
  },
  {
   "cell_type": "markdown",
   "metadata": {
    "slideshow": {
     "slide_type": "slide"
    }
   },
   "source": []
  },
  {
   "cell_type": "markdown",
   "metadata": {},
   "source": [
    "### Before and after JECs\n",
    "\n",
    "Let's looks at some distributions to understand the difference in this correction:"
   ]
  },
  {
   "cell_type": "code",
   "execution_count": null,
   "metadata": {},
   "outputs": [],
   "source": [
    "jerc_file = '/cvmfs/cms.cern.ch/rsync/cms-nanoAOD/jsonpog-integration/POG/JME/2018_UL/jet_jerc.json.gz'\n",
    "jerc_corr = correctionlib.CorrectionSet.from_file(jerc_file)\n",
    "\n",
    "uncorr_jets = copy.deepcopy(jets)\n",
    "uncorr_jets['pt_raw'] = (1 - uncorr_jets['rawFactor']) * uncorr_jets['pt']\n",
    "uncorr_jets['mass_raw'] = (1 - uncorr_jets['rawFactor']) * uncorr_jets['mass']\n",
    "uncorr_jets['rho'] = ak.broadcast_arrays(events.fixedGridRhoFastjetAll, uncorr_jets.pt)[0]\n",
    "j, nj = ak.flatten(uncorr_jets), ak.num(uncorr_jets)\n",
    "\n",
    "corr = jerc_corr.compound[\"Summer19UL18_V5_MC_L1L2L3Res_AK4PFchs\"]\n",
    "flat_jec = corr.evaluate( j['area'], j['eta'], j['pt_raw'], j['rho'] )\n",
    "jec = ak.unflatten( flat_jec, nj )\n",
    "\n",
    "corr_jets = copy.deepcopy(uncorr_jets)\n",
    "corr_jets['jet_energy_correction'] = jec\n",
    "corr_jets['pt'] = corr_jets.pt_raw * jec\n",
    "corr_jets['mass'] = corr_jets.mass_raw * jec\n",
    "\n",
    "corr_jets = corr_jets[ (corr_jets.pt > 30) ]"
   ]
  },
  {
   "cell_type": "markdown",
   "metadata": {},
   "source": [
    "Let's make the histograms to compare genjets with corrected jets:"
   ]
  },
  {
   "cell_type": "code",
   "execution_count": null,
   "metadata": {},
   "outputs": [],
   "source": [
    "hists_corr = (\n",
    "    hist.Hist.new\n",
    "    .StrCat([\"gen\", \"reco\"], name=\"jet_type\")\n",
    "    .Reg(100, 0, 1000, name=\"pt\", label='jet pt')\n",
    "    .Reg(40, -5, 5, name=\"eta\", label='jet eta')\n",
    "    .Weight()\n",
    "    .fill(\n",
    "        jet_type='gen',\n",
    "        pt=ak.flatten(events.GenJet.pt),\n",
    "        eta=ak.flatten(events.GenJet.eta)\n",
    "    )\n",
    "    .fill(\n",
    "        jet_type='reco',\n",
    "        pt=ak.flatten(corr_jets.pt),\n",
    "        eta=ak.flatten(corr_jets.eta)\n",
    "    )\n",
    ")"
   ]
  },
  {
   "cell_type": "code",
   "execution_count": null,
   "metadata": {},
   "outputs": [],
   "source": [
    "gen = hists_corr[\"gen\",:,:].project(\"pt\")\n",
    "reco = hists_corr[\"reco\",:,:].project(\"pt\")\n",
    "\n",
    "fig = plt.gcf()\n",
    "grid = fig.add_gridspec(2, 1, hspace=0, height_ratios=[3, 1])\n",
    "\n",
    "main_ax = fig.add_subplot(grid[0])\n",
    "subplot_ax = fig.add_subplot(grid[1], sharex=main_ax)\n",
    "\n",
    "main, subplot = gen.plot_ratio(reco, rp_num_label=\"gen\", rp_denom_label=\"reco\", ax_dict={'main_ax' : main_ax, 'ratio_ax': subplot_ax} )\n",
    "main_ax.set_yscale('log')"
   ]
  },
  {
   "cell_type": "code",
   "execution_count": null,
   "metadata": {},
   "outputs": [],
   "source": [
    "fig = plt.gcf()\n",
    "grid = fig.add_gridspec(2, 1, hspace=0, height_ratios=[3, 1])\n",
    "\n",
    "main_ax = fig.add_subplot(grid[0])\n",
    "subplot_ax = fig.add_subplot(grid[1], sharex=main_ax)\n",
    "\n",
    "main, subplot = unc_reco.plot_ratio(reco, rp_num_label=\"unc reco\", rp_denom_label=\"reco\", ax_dict={'main_ax' : main_ax, 'ratio_ax': subplot_ax} )\n",
    "main_ax.set_yscale('log')\n"
   ]
  },
  {
   "cell_type": "markdown",
   "metadata": {
    "slideshow": {
     "slide_type": "slide"
    }
   },
   "source": [
    "## Exercise 3.2: JEC Uncertainties\n",
    "\n",
    "Let's apply the JEC uncertainties (one sigma up and down) to the uncorrected jets:"
   ]
  },
  {
   "cell_type": "code",
   "execution_count": null,
   "metadata": {},
   "outputs": [],
   "source": [
    "uncorr_jets = copy.deepcopy(jets)\n",
    "uncorr_jets['pt_raw'] = (1 - uncorr_jets['rawFactor']) * uncorr_jets['pt']\n",
    "uncorr_jets['mass_raw'] = (1 - uncorr_jets['rawFactor']) * uncorr_jets['mass']\n",
    "uncorr_jets['rho'] = ak.broadcast_arrays(events.fixedGridRhoFastjetAll, uncorr_jets.pt)[0]\n",
    "j, nj = ak.flatten(uncorr_jets), ak.num(uncorr_jets)\n",
    "\n",
    "### jet corrections\n",
    "corr = jerc_corr.compound[\"Summer19UL18_V5_MC_L1L2L3Res_AK4PFchs\"]\n",
    "flat_jec = corr.evaluate( j['area'], j['eta'], j['pt_raw'], j['rho'] )\n",
    "jec = ak.unflatten( flat_jec, nj )\n",
    "\n",
    "### jet corrections uncertainties\n",
    "corr = jerc_corr[\"Summer19UL18_V5_MC_Total_AK4PFchs\"]\n",
    "flat_jec_unc = corr.evaluate( j['eta'], j['pt_raw'] )\n",
    "flat_jec_unc_up = np.ones(len(j)) + flat_jec_unc\n",
    "flat_jec_unc_down = np.ones(len(j)) - flat_jec_unc\n",
    "\n",
    "jec_unc_up = ak.unflatten( flat_jec_unc_up, nj )\n",
    "jec_unc_down = ak.unflatten( flat_jec_unc_down, nj )\n",
    "\n",
    "corr_jets = copy.deepcopy(uncorr_jets)\n",
    "corr_jets['jet_energy_correction'] = jec\n",
    "corr_jets['pt'] = corr_jets.pt_raw * jec\n",
    "corr_jets['mass'] = corr_jets.mass_raw * jec\n",
    "\n",
    "corr_jets['pt_unc_up'] = corr_jets.pt_raw * jec_unc_up\n",
    "corr_jets['pt_unc_down'] = corr_jets.pt_raw * jec_unc_down\n",
    "\n",
    "corr_jets = corr_jets[ (corr_jets.pt > 30) ]"
   ]
  },
  {
   "cell_type": "markdown",
   "metadata": {},
   "source": [
    "Let's make the plots to compare:"
   ]
  },
  {
   "cell_type": "code",
   "execution_count": null,
   "metadata": {},
   "outputs": [],
   "source": [
    "hists_unc = (\n",
    "    hist.Hist.new\n",
    "    .StrCat([\"nominal\", \"up\", 'down'], name=\"unc\")\n",
    "    .Reg(100, 0, 1000, name=\"pt\", label='jet pt')\n",
    "    .Weight()\n",
    "    .fill(\n",
    "        unc='nominal',\n",
    "        pt=ak.flatten(corr_jets.pt),\n",
    "    )\n",
    "    .fill(\n",
    "        unc='up',\n",
    "        pt=ak.flatten(corr_jets.pt_unc_up),\n",
    "    )\n",
    "    .fill(\n",
    "        unc='down',\n",
    "        pt=ak.flatten(corr_jets.pt_unc_down),\n",
    "    )\n",
    ")"
   ]
  },
  {
   "cell_type": "code",
   "execution_count": null,
   "metadata": {},
   "outputs": [],
   "source": [
    "fig, ax = plt.subplots()\n",
    "hists_unc.plot1d(ax=ax)\n",
    "ax.legend(title=\"Uncertatinty\")\n",
    "ax.set_yscale(\"log\")"
   ]
  },
  {
   "cell_type": "markdown",
   "metadata": {},
   "source": [
    "## Your turn\n",
    "\n",
    "You can check different the JEC uncertainties variations for other jet variables"
   ]
  },
  {
   "cell_type": "markdown",
   "metadata": {},
   "source": [
    "## Exercise 3.3: Jet Energy Resolution\n",
    "\n",
    "The next cell is the `coffea` implementation to apply jet energy resolution. Notice that this implementation does **not** uses the json-pog but the all txt files. \n",
    "\n",
    "This will change in the near future."
   ]
  },
  {
   "cell_type": "code",
   "execution_count": null,
   "metadata": {},
   "outputs": [],
   "source": [
    "from coffea.jetmet_tools import FactorizedJetCorrector, JetCorrectionUncertainty\n",
    "from coffea.jetmet_tools import JECStack, CorrectedJetsFactory\n",
    "from coffea.lookup_tools import extractor\n",
    "\n",
    "### just in case, let's start from scratch\n",
    "events = NanoEventsFactory.from_root( fname, schemaclass=NanoAODSchema.v6).events()\n",
    "\n",
    "ext = extractor()\n",
    "ext.add_weight_sets([\n",
    "    \"* * ../../data/JECs/Summer19UL18_V5_MC/Summer19UL18_V5_MC_L1FastJet_AK4PFchs.txt\",\n",
    "    \"* * ../../data/JECs/Summer19UL18_V5_MC/Summer19UL18_V5_MC_L2Relative_AK4PFchs.txt\",\n",
    "    \"* * ../../data/JECs/Summer19UL18_V5_MC/Summer19UL18_V5_MC_L2L3Residual_AK4PFchs.txt\",\n",
    "    \"* * ../../data/JECs/Summer19UL18_V5_MC/Summer19UL18_V5_MC_L3Absolute_AK4PFchs.txt\",\n",
    "    \"* * ../../data/JECs/Summer19UL18_V5_MC/Summer19UL18_JRV2_MC_PtResolution_AK4PFchs.txt\",\n",
    "    \"* * ../../data/JECs/Summer19UL18_V5_MC/Summer19UL18_JRV2_MC_SF_AK4PFchs.txt\",\n",
    "])\n",
    "ext.finalize()\n",
    "\n",
    "jec_stack_names = [\n",
    "    \"Summer19UL18_V5_MC_L1FastJet_AK4PFchs\",\n",
    "    \"Summer19UL18_V5_MC_L2Relative_AK4PFchs\",\n",
    "    \"Summer19UL18_V5_MC_L2L3Residual_AK4PFchs\",\n",
    "    \"Summer19UL18_V5_MC_L3Absolute_AK4PFchs\",\n",
    "    \"Summer19UL18_JRV2_MC_PtResolution_AK4PFchs\",\n",
    "    \"Summer19UL18_JRV2_MC_SF_AK4PFchs\"\n",
    "]\n",
    "\n",
    "evaluator = ext.make_evaluator()\n",
    "jec_inputs = {name: evaluator[name] for name in jec_stack_names}\n",
    "jec_stack = JECStack(jec_inputs)\n",
    "\n",
    "name_map = jec_stack.blank_name_map\n",
    "name_map['JetPt'] = 'pt'\n",
    "name_map['JetMass'] = 'mass'\n",
    "name_map['JetEta'] = 'eta'\n",
    "name_map['JetA'] = 'area'\n",
    "\n",
    "jets = events.Jet\n",
    "\n",
    "jets['pt_raw'] = (1 - jets['rawFactor']) * jets['pt']\n",
    "jets['mass_raw'] = (1 - jets['rawFactor']) * jets['mass']\n",
    "jets['pt_gen'] = ak.values_astype(ak.fill_none(jets.matched_gen.pt, 0), np.float32)\n",
    "jets['rho'] = ak.broadcast_arrays(events.fixedGridRhoFastjetAll, jets.pt)[0]\n",
    "name_map['ptGenJet'] = 'pt_gen'\n",
    "name_map['ptRaw'] = 'pt_raw'\n",
    "name_map['massRaw'] = 'mass_raw'\n",
    "name_map['Rho'] = 'rho'\n",
    "\n",
    "events_cache = events.caches[0]\n",
    "jet_factory = CorrectedJetsFactory(name_map, jec_stack)\n",
    "corrected_jets = jet_factory.build(jets, lazy_cache=events_cache)"
   ]
  },
  {
   "cell_type": "markdown",
   "metadata": {},
   "source": [
    "Keep in mind that JERs needs to be applied in uncorrected jets. All of this is done behind the scene with the `coffea` `CorrectedJetsFactory`. \n",
    "\n",
    "Now let's look at the effect in the jet pt and plot the difference in the JER variations:"
   ]
  },
  {
   "cell_type": "code",
   "execution_count": null,
   "metadata": {},
   "outputs": [],
   "source": [
    "fig, ax = plt.subplots()\n",
    "\n",
    "hists_jer = (\n",
    "    hist.Hist.new\n",
    "    .StrCat([\"nominal\", \"up\", 'down'], name=\"unc\", label=\"JER\")\n",
    "    .Reg(50, 0, 500, name=\"pt\", label='jet pt')\n",
    "    .Weight()\n",
    "    .fill(\n",
    "        unc='nominal',\n",
    "        pt=ak.flatten(corrected_jets.pt),\n",
    "    )\n",
    "    .fill(\n",
    "        unc='up',\n",
    "        pt=ak.flatten(corrected_jets.JER.up.pt),\n",
    "    )\n",
    "    .fill(\n",
    "        unc='down',\n",
    "        pt=ak.flatten(corrected_jets.JER.down.pt),\n",
    "    )\n",
    ").plot1d()\n",
    "ax.legend(title=\"JER variations\")\n",
    "ax.set_yscale(\"log\")"
   ]
  },
  {
   "cell_type": "code",
   "execution_count": null,
   "metadata": {},
   "outputs": [],
   "source": []
  }
 ],
 "metadata": {
  "kernelspec": {
   "display_name": "Python 3 (ipykernel)",
   "language": "python",
   "name": "python3"
  },
  "language_info": {
   "codemirror_mode": {
    "name": "ipython",
    "version": 3
   },
   "file_extension": ".py",
   "mimetype": "text/x-python",
   "name": "python",
   "nbconvert_exporter": "python",
   "pygments_lexer": "ipython3",
   "version": "3.9.12"
  }
 },
 "nbformat": 4,
 "nbformat_minor": 2
}
