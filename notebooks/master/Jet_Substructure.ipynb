{
 "cells": [
  {
   "cell_type": "markdown",
   "metadata": {},
   "source": [
    "# Jet Substructure"
   ]
  },
  {
   "cell_type": "markdown",
   "metadata": {},
   "source": [
    "## Load libraries and input files\n",
    "\n",
    "In this notebook, we will load different files from different process. This can take some time:"
   ]
  },
  {
   "cell_type": "code",
   "execution_count": null,
   "metadata": {},
   "outputs": [],
   "source": [
    "from coffea.nanoevents import NanoEventsFactory, NanoAODSchema\n",
    "import hist\n",
    "import awkward as ak\n",
    "import numpy as np\n",
    "import matplotlib.pyplot as plt\n",
    "import mplhep as hep\n",
    "import correctionlib\n",
    "import copy\n",
    "\n",
    "plt.style.use(hep.style.CMS)"
   ]
  },
  {
   "cell_type": "code",
   "execution_count": null,
   "metadata": {},
   "outputs": [],
   "source": [
    "fname_qcd = \"root://cmseos.fnal.gov//store/user/cmsdas/2023/short_exercises/jets/RunIISummer20UL18NanoAODv9/QCD_Pt-15to7000_TuneCP5_Flat2018_13TeV_pythia8/NANOAODSIM/20UL18JMENano_106X_upgrade2018_realistic_v16_L1v1-v1/30000/792B4CD3-A001-F94F-9AAB-D74D532DE610.root\"\n",
    "fname_ttbar = \"root://cmseos.fnal.gov//store/user/cmsdas/2023/short_exercises/jets/RunIISummer20UL18NanoAODv9/TTJets_TuneCP5_13TeV-amcatnloFXFX-pythia8/NANOAODSIM/106X_upgrade2018_realistic_v16_L1v1-v1/2520000/130AF209-596A-BA46-BA9E-D8847511BB0F.root\"\n",
    "fname_rsgluon=\"root://cmseos.fnal.gov//store/user/cmsdas/2023/short_exercises/jets/RunIISummer20UL18NanoAODv9/RSGluonToTT_M-1000_TuneCP5_13TeV-pythia8/NANOAODSIM/106X_upgrade2018_realistic_v16_L1v1-v1/130000/F2DC937C-90D2-CF40-9FCA-017BB8CD7B9E.root\"\n",
    "fname_wjets=\"root://cmseos.fnal.gov//store/user/cmsdas/2023/short_exercises/jets/RunIISummer20UL18NanoAODv9/WJetsToQQ_HT-800toInf_TuneCP5_13TeV-madgraphMLM-pythia8/NANOAODSIM/106X_upgrade2018_realistic_v16_L1v1-v2/2550000/1651E9BC-5EFF-E149-A1C1-019EAA144F5E.root\"\n",
    "\n",
    "events_qcd = NanoEventsFactory.from_root( fname_qcd, schemaclass=NanoAODSchema.v6).events()\n",
    "events_ttbar = NanoEventsFactory.from_root( fname_ttbar, schemaclass=NanoAODSchema.v6).events()\n",
    "events_rsgluon = NanoEventsFactory.from_root( fname_rsgluon, schemaclass=NanoAODSchema.v6).events()\n",
    "events_wjets = NanoEventsFactory.from_root( fname_wjets, schemaclass=NanoAODSchema.v6).events()"
   ]
  },
  {
   "cell_type": "markdown",
   "metadata": {},
   "source": [
    "## Exercise 4.1: Grooming and PU removal algorithms\n",
    "\n",
    "Let's make a plot comparing the ungroomed mass and the softdrop mass:"
   ]
  },
  {
   "cell_type": "code",
   "execution_count": null,
   "metadata": {},
   "outputs": [],
   "source": [
    "hists_mass = (\n",
    "    hist.Hist.new\n",
    "    .StrCat([\"mass\", \"msoftdrop\"], name=\"mass_type\")\n",
    "    .Reg(200, 0, 200, name=\"mass\", label='jet mass')\n",
    "    .Weight()\n",
    "    .fill(\n",
    "        mass_type='mass',\n",
    "        mass=ak.flatten(events_ttbar.FatJet.mass),\n",
    "    )\n",
    "    .fill(\n",
    "        mass_type='msoftdrop',\n",
    "        mass=ak.flatten(events_ttbar.FatJet.msoftdrop),\n",
    "    )\n",
    ")\n",
    "fig, ax = plt.subplots()\n",
    "hists_mass.plot1d()\n",
    "ax.legend()"
   ]
  },
  {
   "cell_type": "markdown",
   "metadata": {},
   "source": [
    "## Exercise 4.2: Substructure Variables\n",
    "\n",
    "Now, let's compare the different subtructure variables between different samples:"
   ]
  },
  {
   "cell_type": "code",
   "execution_count": null,
   "metadata": {},
   "outputs": [],
   "source": [
    "def create_substructure_variables( jets ):\n",
    "    \n",
    "    jets['tau21'] = jets.tau2 / jets.tau1\n",
    "    jets['tau32'] = jets.tau3 / jets.tau2\n",
    "\n",
    "    return jets"
   ]
  },
  {
   "cell_type": "code",
   "execution_count": null,
   "metadata": {},
   "outputs": [],
   "source": [
    "jets_qcd = create_substructure_variables( events_qcd.FatJet )\n",
    "jets_ttbar = create_substructure_variables( events_ttbar.FatJet )\n",
    "jets_rsgluon = create_substructure_variables( events_rsgluon.FatJet )\n",
    "jets_wjets = create_substructure_variables( events_wjets.FatJet )"
   ]
  },
  {
   "cell_type": "code",
   "execution_count": null,
   "metadata": {},
   "outputs": [],
   "source": [
    "hists = (\n",
    "    hist.Hist.new\n",
    "    .StrCat([\"QCD\", \"ttbar\", \"RSGluon\", \"Wjets\"], name=\"dataset\")\n",
    "    .Reg(200, 0, 2000, name=\"pt\", label='Fatjet pt')\n",
    "    .Reg(10, 0, 1, name=\"tau21\", label='Fatjet tau21')\n",
    "    .Reg(10, 0, 1, name=\"tau32\", label='Fatjet tau32')\n",
    "    .Reg(20, 0, 1, name=\"n2\", label='Fatjet N2')\n",
    "    .Reg(20, 0, 1, name=\"n3\", label='Fatjet N3')\n",
    "    .Weight()\n",
    "    .fill(\n",
    "        dataset='QCD',\n",
    "        pt=ak.flatten(jets_qcd.pt),\n",
    "        tau21=ak.flatten(jets_qcd.tau21),\n",
    "        tau32=ak.flatten(jets_qcd.tau32),\n",
    "        n2=ak.flatten(jets_qcd.n2b1),\n",
    "        n3=ak.flatten(jets_qcd.n3b1),\n",
    "    )\n",
    "    .fill(\n",
    "        dataset='ttbar',\n",
    "        pt=ak.flatten(jets_ttbar.pt),\n",
    "        tau21=ak.flatten(jets_ttbar.tau21),\n",
    "        tau32=ak.flatten(jets_ttbar.tau32),\n",
    "        n2=ak.flatten(jets_ttbar.n2b1),\n",
    "        n3=ak.flatten(jets_ttbar.n3b1),\n",
    "    )\n",
    "    .fill(\n",
    "        dataset='RSGluon',\n",
    "        pt=ak.flatten(jets_rsgluon.pt),\n",
    "        tau21=ak.flatten(jets_rsgluon.tau21),\n",
    "        tau32=ak.flatten(jets_rsgluon.tau32),\n",
    "        n2=ak.flatten(jets_rsgluon.n2b1),\n",
    "        n3=ak.flatten(jets_rsgluon.n3b1),\n",
    "    )\n",
    "    .fill(\n",
    "        dataset='Wjets',\n",
    "        pt=ak.flatten(jets_wjets.pt),\n",
    "        tau21=ak.flatten(jets_wjets.tau21),\n",
    "        tau32=ak.flatten(jets_wjets.tau32),\n",
    "        n2=ak.flatten(jets_wjets.n2b1),\n",
    "        n3=ak.flatten(jets_wjets.n3b1),\n",
    "    )\n",
    ")"
   ]
  },
  {
   "cell_type": "code",
   "execution_count": null,
   "metadata": {},
   "outputs": [],
   "source": [
    "fig, ax = plt.subplots()\n",
    "hists.project(\"dataset\", \"tau21\").plot1d(density=True)\n",
    "ax.legend()"
   ]
  },
  {
   "cell_type": "markdown",
   "metadata": {},
   "source": [
    "Let's do the same for tau32, but let's increase the jet pt to 450 GeV to enchance the efect:"
   ]
  },
  {
   "cell_type": "code",
   "execution_count": null,
   "metadata": {},
   "outputs": [],
   "source": [
    "fig, ax = plt.subplots()\n",
    "hists.project(\"dataset\", \"tau32\", \"pt\")[:,:,450j::sum].plot1d(density=True)\n",
    "ax.legend()"
   ]
  },
  {
   "cell_type": "code",
   "execution_count": null,
   "metadata": {},
   "outputs": [],
   "source": [
    "fig, ax = plt.subplots()\n",
    "hists.project(\"dataset\", \"n2\", \"pt\")[:,:,300j::sum].plot1d(density=True)\n",
    "ax.legend()"
   ]
  },
  {
   "cell_type": "code",
   "execution_count": null,
   "metadata": {},
   "outputs": [],
   "source": [
    "fig, ax = plt.subplots()\n",
    "hists.project(\"dataset\", \"n3\", \"pt\")[:,:,450j::sum].plot1d(density=True)\n",
    "ax.legend()"
   ]
  },
  {
   "cell_type": "markdown",
   "metadata": {},
   "source": [
    "## Exercise 4.3: $\\rho$ parameter\n",
    "\n",
    "Let's create this variable and make some comparison plots:"
   ]
  },
  {
   "cell_type": "code",
   "execution_count": null,
   "metadata": {
    "scrolled": false
   },
   "outputs": [],
   "source": [
    "fig, ax = plt.subplots()\n",
    "\n",
    "hists_rho = (\n",
    "    hist.Hist.new\n",
    "    .StrCat([\"QCD\", \"ttbar\", \"RSGluon\", \"Wjets\"], name=\"dataset\")\n",
    "    .Reg(20, -10, 0, name=\"rho\", label='Fatjet rho')\n",
    "    .Weight()\n",
    "    .fill(\n",
    "        dataset='QCD',\n",
    "        rho=ak.flatten( np.log( np.power( jets_qcd.msoftdrop / (jets_qcd.pt * 0.8) , 2 ) ) ),\n",
    "    )\n",
    "    .fill(\n",
    "        dataset='ttbar',\n",
    "        rho=ak.flatten(np.log( np.power( jets_ttbar.msoftdrop / (jets_ttbar.pt * 0.8) , 2 ) ) ),\n",
    "    )\n",
    "    .fill(\n",
    "        dataset='RSGluon',\n",
    "        rho=ak.flatten(np.log( np.power( jets_rsgluon.msoftdrop / (jets_rsgluon.pt * 0.8) , 2 ) ) ),\n",
    "    )\n",
    "    .fill(\n",
    "        dataset='Wjets',\n",
    "        rho=ak.flatten(np.log( np.power( jets_wjets.msoftdrop / (jets_wjets.pt * 0.8) , 2 ) ) ),\n",
    "    )\n",
    ").plot1d(density=True)\n",
    "\n",
    "ax.legend()"
   ]
  },
  {
   "cell_type": "markdown",
   "metadata": {},
   "source": [
    "## Exercise 4.4: Jet Mass"
   ]
  },
  {
   "cell_type": "code",
   "execution_count": null,
   "metadata": {},
   "outputs": [],
   "source": [
    "fig, ax = plt.subplots()\n",
    "\n",
    "hists_mass = (\n",
    "    hist.Hist.new\n",
    "    .StrCat([\"QCD\", \"ttbar\", \"RSGluon\", \"Wjets\"], name=\"dataset\")\n",
    "    .Reg(50, 50, 300, name=\"mass\", label='Fatjet softdrop mass')\n",
    "    .Weight()\n",
    "    .fill(\n",
    "        dataset='QCD',\n",
    "        mass=ak.flatten( jets_qcd.msoftdrop ),\n",
    "    )\n",
    "    .fill(\n",
    "        dataset='ttbar',\n",
    "        mass=ak.flatten( jets_ttbar.msoftdrop ),\n",
    "    )\n",
    "    .fill(\n",
    "        dataset='RSGluon',\n",
    "        mass=ak.flatten( jets_rsgluon.msoftdrop ),\n",
    "    )\n",
    "    .fill(\n",
    "        dataset='Wjets',\n",
    "        mass=ak.flatten( jets_wjets.msoftdrop ),\n",
    "    )\n",
    ").plot1d(density=True)\n",
    "\n",
    "ax.legend()\n",
    "# ax.set_yscale(\"log\")"
   ]
  },
  {
   "cell_type": "markdown",
   "metadata": {},
   "source": [
    "## Exercise 4.5: W tagging\n",
    "\n",
    "Let's compare the tau2 / tau1 ratio for the AK8 jets from Standard Model top quarks to those from the QCD sample:"
   ]
  },
  {
   "cell_type": "code",
   "execution_count": null,
   "metadata": {},
   "outputs": [],
   "source": [
    "hists_wtag = (\n",
    "    hist.Hist.new\n",
    "    .StrCat([\"QCD\", \"ttbar\"], name=\"dataset\")\n",
    "    .Reg(60, 0, 300, name=\"mass\", label='Fatjet mass softdrop')\n",
    "    .Reg(10, 0, 1, name=\"tau21\", label='Fatjet tau21')\n",
    "    .Reg(20, 0, 1, name=\"n2\", label='Fatjet N2')\n",
    "    .Reg(20, 0, 1, name=\"deepAK8_W\", label='Fatjet deepAK8Jet W')\n",
    "    .Weight()\n",
    "    .fill(\n",
    "        dataset='QCD',\n",
    "        mass=ak.flatten(jets_qcd.msoftdrop),\n",
    "        tau21=ak.flatten(jets_qcd.tau21),\n",
    "        n2=ak.flatten(jets_qcd.n2b1),\n",
    "        deepAK8_W=ak.flatten(jets_qcd.deepTagMD_WvsQCD),\n",
    "    )\n",
    "    .fill(\n",
    "        dataset='ttbar',\n",
    "        mass=ak.flatten(jets_ttbar.msoftdrop),\n",
    "        tau21=ak.flatten(jets_ttbar.tau21),\n",
    "        n2=ak.flatten(jets_ttbar.n2b1),\n",
    "        deepAK8_W=ak.flatten(jets_ttbar.deepTagMD_WvsQCD),\n",
    "    )\n",
    ")"
   ]
  },
  {
   "cell_type": "code",
   "execution_count": null,
   "metadata": {},
   "outputs": [],
   "source": [
    "fig, ax = plt.subplots()\n",
    "hists_wtag.project(\"dataset\", \"tau21\").plot1d(density=True)\n",
    "ax.legend()"
   ]
  },
  {
   "cell_type": "code",
   "execution_count": null,
   "metadata": {},
   "outputs": [],
   "source": [
    "fig, ax = plt.subplots()\n",
    "hists_wtag.project(\"dataset\", \"mass\").plot1d(density=True)\n",
    "ax.legend()"
   ]
  },
  {
   "cell_type": "markdown",
   "metadata": {},
   "source": [
    "What happen if we apply a selection in tau21 of $<0.5$?"
   ]
  },
  {
   "cell_type": "code",
   "execution_count": null,
   "metadata": {},
   "outputs": [],
   "source": [
    "fig, ax = plt.subplots()\n",
    "hists_wtag.project(\"dataset\", \"mass\", \"tau21\")[:,:,:0.5j:sum].plot1d(density=True)\n",
    "ax.legend()"
   ]
  },
  {
   "cell_type": "markdown",
   "metadata": {},
   "source": [
    "Let's use now $N2$ with a selection of 0.2:"
   ]
  },
  {
   "cell_type": "code",
   "execution_count": null,
   "metadata": {},
   "outputs": [],
   "source": [
    "fig, ax = plt.subplots()\n",
    "hists_wtag.project(\"dataset\", \"mass\", \"n2\")[:,:,0.2j::sum].plot1d(density=True)\n",
    "ax.legend()"
   ]
  },
  {
   "cell_type": "markdown",
   "metadata": {},
   "source": [
    "CMS has developed taggers using ML techinques. Let's try deepAK8 Jet tagger for W jets:"
   ]
  },
  {
   "cell_type": "code",
   "execution_count": null,
   "metadata": {},
   "outputs": [],
   "source": [
    "fig, ax = plt.subplots()\n",
    "hists_wtag.project(\"dataset\", \"deepAK8_W\").plot1d(density=True)\n",
    "ax.legend()"
   ]
  },
  {
   "cell_type": "code",
   "execution_count": null,
   "metadata": {},
   "outputs": [],
   "source": [
    "fig, ax = plt.subplots()\n",
    "hists_wtag.project(\"dataset\", \"mass\", \"deepAK8_W\")[:,:,0.85j::sum].plot1d(density=True)\n",
    "ax.legend()"
   ]
  },
  {
   "cell_type": "markdown",
   "metadata": {},
   "source": [
    "## Exercise 4.6: top tagging\n",
    "\n",
    "Let's repeat the same exercise but now using the subtructure variables for top tagging:"
   ]
  },
  {
   "cell_type": "code",
   "execution_count": null,
   "metadata": {},
   "outputs": [],
   "source": [
    "hists_toptag = (\n",
    "    hist.Hist.new\n",
    "    .StrCat([\"QCD\", \"ttbar\"], name=\"dataset\")\n",
    "    .Reg(60, 0, 300, name=\"mass\", label='Fatjet mass softdrop')\n",
    "    .Reg(10, 0, 1, name=\"tau32\", label='Fatjet tau32')\n",
    "    .Reg(20, 0, 1, name=\"n3\", label='Fatjet N3')\n",
    "    .Reg(20, 0, 1, name=\"deepAK8_top\", label='Fatjet deepAK8Jet top')\n",
    "    .Weight()\n",
    "    .fill(\n",
    "        dataset='QCD',\n",
    "        mass=ak.flatten(jets_qcd.msoftdrop),\n",
    "        tau32=ak.flatten(jets_qcd.tau32),\n",
    "        n3=ak.flatten(jets_qcd.n3b1),\n",
    "        deepAK8_top=ak.flatten(jets_qcd.deepTagMD_TvsQCD),\n",
    "    )\n",
    "    .fill(\n",
    "        dataset='ttbar',\n",
    "        mass=ak.flatten(jets_ttbar.msoftdrop),\n",
    "        tau32=ak.flatten(jets_ttbar.tau32),\n",
    "        n3=ak.flatten(jets_ttbar.n3b1),\n",
    "        deepAK8_top=ak.flatten(jets_ttbar.deepTagMD_TvsQCD),\n",
    "    )\n",
    ")"
   ]
  },
  {
   "cell_type": "code",
   "execution_count": null,
   "metadata": {},
   "outputs": [],
   "source": [
    "fig, ax = plt.subplots()\n",
    "hists_toptag.project(\"dataset\", \"mass\", \"tau32\")[:,:,:0.5j:sum].plot1d(density=True)\n",
    "ax.legend()"
   ]
  },
  {
   "cell_type": "code",
   "execution_count": null,
   "metadata": {},
   "outputs": [],
   "source": [
    "fig, ax = plt.subplots()\n",
    "hists_toptag.project(\"dataset\", \"mass\", \"deepAK8_top\")[:,:,0.85j::sum].plot1d(density=True)\n",
    "ax.legend()"
   ]
  },
  {
   "cell_type": "markdown",
   "metadata": {},
   "source": [
    "## Your turn\n",
    "\n",
    "Now you can play with the subtructure variables and try to improve the jet mass distribution."
   ]
  },
  {
   "cell_type": "code",
   "execution_count": null,
   "metadata": {},
   "outputs": [],
   "source": []
  }
 ],
 "metadata": {
  "kernelspec": {
   "display_name": "Python 3 (ipykernel)",
   "language": "python",
   "name": "python3"
  },
  "language_info": {
   "codemirror_mode": {
    "name": "ipython",
    "version": 3
   },
   "file_extension": ".py",
   "mimetype": "text/x-python",
   "name": "python",
   "nbconvert_exporter": "python",
   "pygments_lexer": "ipython3",
   "version": "3.9.12"
  }
 },
 "nbformat": 4,
 "nbformat_minor": 2
}
